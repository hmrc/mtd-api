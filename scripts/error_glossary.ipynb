{
 "cells": [
  {
   "cell_type": "code",
   "execution_count": 292,
   "metadata": {},
   "outputs": [],
   "source": [
    "from github import Github, GithubException, Repository, ContentFile\n",
    "import re"
   ]
  },
  {
   "cell_type": "code",
   "execution_count": 293,
   "metadata": {},
   "outputs": [],
   "source": [
    "g = Github(\"dummy\")"
   ]
  },
  {
   "cell_type": "code",
   "execution_count": 462,
   "metadata": {},
   "outputs": [],
   "source": [
    "class ApiInstances:\n",
    "    def getApiVersions(self, api_repo: Repository):\n",
    "        try:\n",
    "            app_contents = api_repo.get_contents(\"app\")\n",
    "            api_versions = []\n",
    "            for app_content in app_contents:\n",
    "                if re.match(version_regex, app_content.path) is not None:\n",
    "                    api_version = app_content.path[4:]\n",
    "                    api_versions.append(self.getApiVersionErrors(api_repo, api_version))\n",
    "            return api_versions\n",
    "        except Exception as ex:\n",
    "            raise ex\n",
    "            \n",
    "    def getApiVersionErrors(self, api_repo: Repository, api_version: str):\n",
    "        try:\n",
    "            error_version = api_repo.get_contents(\"app/\" + api_version + \"/models/errors/mtdErrors.scala\")\n",
    "        except GithubException as ex:\n",
    "            if ex.status == 404:\n",
    "                error_version = api_repo.get_contents(\"app/\" + api_version + \"/models/errors/backendErrors.scala\")\n",
    "            else:\n",
    "                raise ex\n",
    "        return ErrorVersion(api_version, error_version)\n",
    "        \n",
    "            \n",
    "    def __init__(self, api_repo: Repository):\n",
    "        self.service_name = api_repo.name\n",
    "        self.repo: Repository = api_repo\n",
    "        self.api_versions = self.getApiVersions(api_repo)"
   ]
  },
  {
   "cell_type": "code",
   "execution_count": 553,
   "metadata": {},
   "outputs": [],
   "source": [
    "class ErrorVersion:\n",
    "    def __init__(self, api_version: str, raw_error_content: ContentFile):\n",
    "        self.api_version = api_version\n",
    "        self.error_content = self.getErrorContent(raw_error_content)\n",
    "        self.has_paths = self.hasPaths(raw_error_content.repository)\n",
    "        self.errors = self.getErrors(raw_error_content.repository)\n",
    "        \n",
    "    def hasPaths(self, repo: Repository):\n",
    "        reg = \"(?<=case class MtdError\\().*?(?=\\))\"\n",
    "        ans = re.search(reg, self.error_content)\n",
    "        \n",
    "        if ans == None:\n",
    "            try:\n",
    "                error_content = repo.get_contents(\"app/\" + self.api_version + \"/models/errors/MtdError.scala\")\n",
    "            except GithubException as ex:\n",
    "                if ex.status == 404:\n",
    "                    error_content = repo.get_contents(\"app/\" + self.api_version + \"/models/errors/Error.scala\")\n",
    "                    reg = \"(?<=case class Error\\().*?(?=\\))\"\n",
    "                else:\n",
    "                    raise ex\n",
    "            \n",
    "            ans = re.search(reg, self.getErrorContent(error_content))\n",
    "            if ans == None:\n",
    "                raise RuntimeError(\"a\", \"b\")\n",
    "        \n",
    "        \n",
    "        error_params = ans.group().split(\",\")\n",
    "        for error_param in error_params:\n",
    "            if \"paths\" in error_param:\n",
    "                return True\n",
    "        return False\n",
    "    \n",
    "    def getErrorContent(self, raw_error_content: ContentFile):\n",
    "        boilerplate_regex = \"\\/\\*\\n(.*\\*.*\\n)*.*\\*\\/|.*\\/\\/.*\\n|package.*\\n|import.*\\n\"\n",
    "        decoded_error_content = raw_error_content.decoded_content.decode(\"utf-8\")\n",
    "        error_content_without_comments = re.sub(boilerplate_regex, \"\", decoded_error_content)\n",
    "        return error_content_without_comments\n",
    "    \n",
    "    def getErrors(self, repo: Repository):\n",
    "        error_regex = \"object *[A-Za-z]* *extends *[A-Za-z]*Error\\(.*?\\)\"\n",
    "        aa = repo.get_contents(\"app/\" + self.api_version + \"/models/errors\")\n",
    "        for file in aa:\n",
    "            raw_error_strings = re.findall(error_regex, self.getErrorContent(file), re.DOTALL)\n",
    "            errors = []\n",
    "            for raw_error_string in raw_error_strings:\n",
    "                errors.append(Error(raw_error_string.replace(\"\\n\", \"\")))\n",
    "            if errors != []:\n",
    "                return errors\n",
    "        print(repo.name)\n",
    "        raise RuntimeError(\"a\", \"b\")"
   ]
  },
  {
   "cell_type": "code",
   "execution_count": 554,
   "metadata": {},
   "outputs": [],
   "source": [
    "class Error:\n",
    "    def __init__(self, raw_error_string: str):\n",
    "        self.error_name = self.getErrorName(raw_error_string)\n",
    "        self.error_code = \"\"\n",
    "        self.error_message = \"\"\n",
    "        \n",
    "    def getErrorName(self, raw_error_string: str):\n",
    "        error_name = re.search(\"(?<=object).*(?=.*extends.*Error\\(.*?\\))\", raw_error_string)\n",
    "        return error_name.group().replace(\" \",\"\")"
   ]
  },
  {
   "cell_type": "code",
   "execution_count": 555,
   "metadata": {},
   "outputs": [],
   "source": [
    "api_instances = []\n",
    "        \n",
    "mtd_repos = g.get_organization(\"hmrc\").get_team(1996975).get_repos()\n",
    "version_regex = \"app/v[\\d]+\"\n",
    "\n",
    "for repo in mtd_repos:\n",
    "    if repo.name.endswith(\"api\"):\n",
    "        api_instances.append(ApiInstances(repo))"
   ]
  },
  {
   "cell_type": "code",
   "execution_count": null,
   "metadata": {},
   "outputs": [],
   "source": []
  }
 ],
 "metadata": {
  "kernelspec": {
   "display_name": "Python 3",
   "language": "python",
   "name": "python3"
  },
  "language_info": {
   "codemirror_mode": {
    "name": "ipython",
    "version": 3
   },
   "file_extension": ".py",
   "mimetype": "text/x-python",
   "name": "python",
   "nbconvert_exporter": "python",
   "pygments_lexer": "ipython3",
   "version": "3.7.4"
  }
 },
 "nbformat": 4,
 "nbformat_minor": 4
}
