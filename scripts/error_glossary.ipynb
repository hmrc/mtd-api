{
 "cells": [
  {
   "cell_type": "code",
   "execution_count": 112,
   "metadata": {},
   "outputs": [],
   "source": [
    "from github import Github, GithubException, Repository, ContentFile\n",
    "import re"
   ]
  },
  {
   "cell_type": "code",
   "execution_count": 143,
   "metadata": {},
   "outputs": [],
   "source": [
    "g = Github(\"dummy\")"
   ]
  },
  {
   "cell_type": "code",
   "execution_count": 144,
   "metadata": {},
   "outputs": [],
   "source": [
    "class Api_Instances:\n",
    "    def getApiVersions(self, repo: Repository):\n",
    "        try:\n",
    "            app_contents = repo.get_contents(\"app\")\n",
    "            api_versions = {}\n",
    "            for app_content in app_contents:\n",
    "                if re.match(version_regex, app_content.path) is not None:\n",
    "                    api_version = app_content.path[4:]\n",
    "                    api_versions[api_version] = self.getApiVersionErrors(repo, api_version)\n",
    "            return api_versions\n",
    "        except Exception:\n",
    "            print(api_repo.name)\n",
    "            \n",
    "    def getApiVersionErrors(self, repo: Repository, version: str):\n",
    "        boilerplate_regex = \"\\/\\*\\n(.*\\*.*\\n)*.*\\*\\/|.*\\/\\/.*\\n|package.*\\n|import.*\\n\"\n",
    "        try:\n",
    "            error_version = repo.get_contents(\"app/\" + version + \"/models/errors/mtdErrors.scala\").decoded_content.decode(\"utf-8\")\n",
    "        except GithubException as ex:\n",
    "            if ex.status == 404:\n",
    "                error_version = repo.get_contents(\"app/\" + version + \"/models/errors/backendErrors.scala\").decoded_content.decode(\"utf-8\")\n",
    "            else:\n",
    "                raise ex\n",
    "        return re.sub(boilerplate_regex, \"\", error_version)\n",
    "        \n",
    "            \n",
    "    def __init__(self, repo: Repository):\n",
    "        self.repo: Repository = repo\n",
    "        self.error_versions = self.getApiVersions(repo)"
   ]
  },
  {
   "cell_type": "code",
   "execution_count": 145,
   "metadata": {},
   "outputs": [
    {
     "ename": "BadCredentialsException",
     "evalue": "401 {\"message\": \"Bad credentials\", \"documentation_url\": \"https://docs.github.com/rest\"}",
     "output_type": "error",
     "traceback": [
      "\u001b[0;31m---------------------------------------------------------------------------\u001b[0m",
      "\u001b[0;31mBadCredentialsException\u001b[0m                   Traceback (most recent call last)",
      "\u001b[0;32m<ipython-input-145-055c09b33003>\u001b[0m in \u001b[0;36m<module>\u001b[0;34m\u001b[0m\n\u001b[1;32m      1\u001b[0m \u001b[0mapi_instances\u001b[0m \u001b[0;34m=\u001b[0m \u001b[0;34m[\u001b[0m\u001b[0;34m]\u001b[0m\u001b[0;34m\u001b[0m\u001b[0;34m\u001b[0m\u001b[0m\n\u001b[1;32m      2\u001b[0m \u001b[0;34m\u001b[0m\u001b[0m\n\u001b[0;32m----> 3\u001b[0;31m \u001b[0mmtd_repos\u001b[0m \u001b[0;34m=\u001b[0m \u001b[0mg\u001b[0m\u001b[0;34m.\u001b[0m\u001b[0mget_organization\u001b[0m\u001b[0;34m(\u001b[0m\u001b[0;34m\"hmrc\"\u001b[0m\u001b[0;34m)\u001b[0m\u001b[0;34m.\u001b[0m\u001b[0mget_team\u001b[0m\u001b[0;34m(\u001b[0m\u001b[0;36m1996975\u001b[0m\u001b[0;34m)\u001b[0m\u001b[0;34m.\u001b[0m\u001b[0mget_repos\u001b[0m\u001b[0;34m(\u001b[0m\u001b[0;34m)\u001b[0m\u001b[0;34m\u001b[0m\u001b[0;34m\u001b[0m\u001b[0m\n\u001b[0m\u001b[1;32m      4\u001b[0m \u001b[0mversion_regex\u001b[0m \u001b[0;34m=\u001b[0m \u001b[0;34m\"app/v[\\d]+\"\u001b[0m\u001b[0;34m\u001b[0m\u001b[0;34m\u001b[0m\u001b[0m\n\u001b[1;32m      5\u001b[0m \u001b[0;34m\u001b[0m\u001b[0m\n",
      "\u001b[0;32m~/opt/anaconda3/lib/python3.7/site-packages/github/MainClass.py\u001b[0m in \u001b[0;36mget_organization\u001b[0;34m(self, login)\u001b[0m\n\u001b[1;32m    294\u001b[0m         \"\"\"\n\u001b[1;32m    295\u001b[0m         \u001b[0;32massert\u001b[0m \u001b[0misinstance\u001b[0m\u001b[0;34m(\u001b[0m\u001b[0mlogin\u001b[0m\u001b[0;34m,\u001b[0m \u001b[0mstr\u001b[0m\u001b[0;34m)\u001b[0m\u001b[0;34m,\u001b[0m \u001b[0mlogin\u001b[0m\u001b[0;34m\u001b[0m\u001b[0;34m\u001b[0m\u001b[0m\n\u001b[0;32m--> 296\u001b[0;31m         \u001b[0mheaders\u001b[0m\u001b[0;34m,\u001b[0m \u001b[0mdata\u001b[0m \u001b[0;34m=\u001b[0m \u001b[0mself\u001b[0m\u001b[0;34m.\u001b[0m\u001b[0m__requester\u001b[0m\u001b[0;34m.\u001b[0m\u001b[0mrequestJsonAndCheck\u001b[0m\u001b[0;34m(\u001b[0m\u001b[0;34m\"GET\"\u001b[0m\u001b[0;34m,\u001b[0m \u001b[0;34mf\"/orgs/{login}\"\u001b[0m\u001b[0;34m)\u001b[0m\u001b[0;34m\u001b[0m\u001b[0;34m\u001b[0m\u001b[0m\n\u001b[0m\u001b[1;32m    297\u001b[0m         return github.Organization.Organization(\n\u001b[1;32m    298\u001b[0m             \u001b[0mself\u001b[0m\u001b[0;34m.\u001b[0m\u001b[0m__requester\u001b[0m\u001b[0;34m,\u001b[0m \u001b[0mheaders\u001b[0m\u001b[0;34m,\u001b[0m \u001b[0mdata\u001b[0m\u001b[0;34m,\u001b[0m \u001b[0mcompleted\u001b[0m\u001b[0;34m=\u001b[0m\u001b[0;32mTrue\u001b[0m\u001b[0;34m\u001b[0m\u001b[0;34m\u001b[0m\u001b[0m\n",
      "\u001b[0;32m~/opt/anaconda3/lib/python3.7/site-packages/github/Requester.py\u001b[0m in \u001b[0;36mrequestJsonAndCheck\u001b[0;34m(self, verb, url, parameters, headers, input)\u001b[0m\n\u001b[1;32m    353\u001b[0m         return self.__check(\n\u001b[1;32m    354\u001b[0m             *self.requestJson(\n\u001b[0;32m--> 355\u001b[0;31m                 \u001b[0mverb\u001b[0m\u001b[0;34m,\u001b[0m \u001b[0murl\u001b[0m\u001b[0;34m,\u001b[0m \u001b[0mparameters\u001b[0m\u001b[0;34m,\u001b[0m \u001b[0mheaders\u001b[0m\u001b[0;34m,\u001b[0m \u001b[0minput\u001b[0m\u001b[0;34m,\u001b[0m \u001b[0mself\u001b[0m\u001b[0;34m.\u001b[0m\u001b[0m__customConnection\u001b[0m\u001b[0;34m(\u001b[0m\u001b[0murl\u001b[0m\u001b[0;34m)\u001b[0m\u001b[0;34m\u001b[0m\u001b[0;34m\u001b[0m\u001b[0m\n\u001b[0m\u001b[1;32m    356\u001b[0m             )\n\u001b[1;32m    357\u001b[0m         )\n",
      "\u001b[0;32m~/opt/anaconda3/lib/python3.7/site-packages/github/Requester.py\u001b[0m in \u001b[0;36m__check\u001b[0;34m(self, status, responseHeaders, output)\u001b[0m\n\u001b[1;32m    376\u001b[0m         \u001b[0moutput\u001b[0m \u001b[0;34m=\u001b[0m \u001b[0mself\u001b[0m\u001b[0;34m.\u001b[0m\u001b[0m__structuredFromJson\u001b[0m\u001b[0;34m(\u001b[0m\u001b[0moutput\u001b[0m\u001b[0;34m)\u001b[0m\u001b[0;34m\u001b[0m\u001b[0;34m\u001b[0m\u001b[0m\n\u001b[1;32m    377\u001b[0m         \u001b[0;32mif\u001b[0m \u001b[0mstatus\u001b[0m \u001b[0;34m>=\u001b[0m \u001b[0;36m400\u001b[0m\u001b[0;34m:\u001b[0m\u001b[0;34m\u001b[0m\u001b[0;34m\u001b[0m\u001b[0m\n\u001b[0;32m--> 378\u001b[0;31m             \u001b[0;32mraise\u001b[0m \u001b[0mself\u001b[0m\u001b[0;34m.\u001b[0m\u001b[0m__createException\u001b[0m\u001b[0;34m(\u001b[0m\u001b[0mstatus\u001b[0m\u001b[0;34m,\u001b[0m \u001b[0mresponseHeaders\u001b[0m\u001b[0;34m,\u001b[0m \u001b[0moutput\u001b[0m\u001b[0;34m)\u001b[0m\u001b[0;34m\u001b[0m\u001b[0;34m\u001b[0m\u001b[0m\n\u001b[0m\u001b[1;32m    379\u001b[0m         \u001b[0;32mreturn\u001b[0m \u001b[0mresponseHeaders\u001b[0m\u001b[0;34m,\u001b[0m \u001b[0moutput\u001b[0m\u001b[0;34m\u001b[0m\u001b[0;34m\u001b[0m\u001b[0m\n\u001b[1;32m    380\u001b[0m \u001b[0;34m\u001b[0m\u001b[0m\n",
      "\u001b[0;31mBadCredentialsException\u001b[0m: 401 {\"message\": \"Bad credentials\", \"documentation_url\": \"https://docs.github.com/rest\"}"
     ]
    }
   ],
   "source": [
    "api_instances = []\n",
    "        \n",
    "mtd_repos = g.get_organization(\"hmrc\").get_team(1996975).get_repos()\n",
    "version_regex = \"app/v[\\d]+\"\n",
    "\n",
    "for repo in mtd_repos:\n",
    "    if repo.name.endswith(\"api\"):\n",
    "        api_instances.append(Api_Instances(repo))"
   ]
  },
  {
   "cell_type": "code",
   "execution_count": 140,
   "metadata": {},
   "outputs": [
    {
     "data": {
      "text/plain": [
       "{'v1': '\\n\\n\\n\\ncase class MtdError(code: String, message: String)\\n\\nobject MtdError {\\n  implicit val writes: OWrites[MtdError] = Json.writes[MtdError]\\n\\n  implicit def genericWrites[T <: MtdError]: OWrites[T] =\\n    writes.contramap[T](c => c: MtdError)\\n}\\n\\nobject NinoFormatError extends MtdError(\"FORMAT_NINO\", \"The provided NINO is invalid\")\\nobject TaxYearFormatError extends MtdError(\"FORMAT_TAX_YEAR\", \"The provided tax year is invalid\")\\nobject BusinessIdFormatError extends MtdError(\"FORMAT_BUSINESS_ID\", \"The provided Business ID is invalid\")\\nobject NoBusinessFoundError extends MtdError(\"NO_BUSINESS_FOUND\", \"No business found for given NINO and Business ID\")\\n\\nobject RuleTaxYearNotSupportedError\\n    extends MtdError(\"RULE_TAX_YEAR_NOT_SUPPORTED\", \"Tax year not supported, because it precedes the earliest allowable tax year\")\\n\\nobject RuleIncorrectOrEmptyBodyError extends MtdError(\"RULE_INCORRECT_OR_EMPTY_BODY_SUBMITTED\", \"An empty or non-matching body was submitted\")\\n\\nobject RuleTaxYearRangeExceededError\\n    extends MtdError(\"RULE_TAX_YEAR_RANGE_EXCEEDED\", \"Tax year range exceeded. A tax year range of one year is required.\")\\n\\nobject NotFoundError extends MtdError(\"MATCHING_RESOURCE_NOT_FOUND\", \"Matching resource not found\")\\n\\nobject DownstreamError extends MtdError(\"INTERNAL_SERVER_ERROR\", \"An internal server error occurred\")\\n\\nobject BadRequestError extends MtdError(\"INVALID_REQUEST\", \"Invalid request\")\\n\\nobject BVRError extends MtdError(\"BUSINESS_ERROR\", \"Business validation error\")\\n\\nobject ServiceUnavailableError extends MtdError(\"SERVICE_UNAVAILABLE\", \"Internal server error\")\\n\\nobject UnauthorisedError extends MtdError(\"CLIENT_OR_AGENT_NOT_AUTHORISED\", \"The client and/or agent is not authorised\")\\nobject InvalidBearerTokenError extends MtdError(\"UNAUTHORIZED\", \"Bearer token is missing or not authorized\")\\n\\nobject  InvalidAcceptHeaderError extends MtdError(\"ACCEPT_HEADER_INVALID\", \"The accept header is missing or invalid\")\\n\\nobject  UnsupportedVersionError extends MtdError(\"NOT_FOUND\", \"The requested resource could not be found\")\\n\\nobject InvalidBodyTypeError extends MtdError(\"INVALID_BODY_TYPE\", \"Expecting text/json or application/json body\")\\n'}"
      ]
     },
     "execution_count": 140,
     "metadata": {},
     "output_type": "execute_result"
    }
   ],
   "source": [
    "instances[0].error_versions"
   ]
  },
  {
   "cell_type": "code",
   "execution_count": null,
   "metadata": {},
   "outputs": [],
   "source": []
  }
 ],
 "metadata": {
  "kernelspec": {
   "display_name": "Python 3",
   "language": "python",
   "name": "python3"
  },
  "language_info": {
   "codemirror_mode": {
    "name": "ipython",
    "version": 3
   },
   "file_extension": ".py",
   "mimetype": "text/x-python",
   "name": "python",
   "nbconvert_exporter": "python",
   "pygments_lexer": "ipython3",
   "version": "3.7.4"
  }
 },
 "nbformat": 4,
 "nbformat_minor": 4
}
