{
 "cells": [
  {
   "cell_type": "code",
   "execution_count": 6,
   "metadata": {},
   "outputs": [],
   "source": [
    "from github import Github, GithubException, Repository, ContentFile\n",
    "import re\n",
    "from typing import List\n",
    "import pandas as pd\n",
    "from pandas import DataFrame as df\n",
    "import numpy as np\n",
    "import csvtotable"
   ]
  },
  {
   "cell_type": "code",
   "execution_count": 9,
   "metadata": {},
   "outputs": [],
   "source": [
    "#Remove access key before commiting to GitHub\n",
    "github = Github(\"dummy\")"
   ]
  },
  {
   "cell_type": "code",
   "execution_count": 163,
   "metadata": {},
   "outputs": [],
   "source": [
    "mtd_team_repos = github.get_organization(\"hmrc\").get_team(1996975).get_repos()"
   ]
  },
  {
   "cell_type": "code",
   "execution_count": 175,
   "metadata": {},
   "outputs": [],
   "source": [
    "class Program:\n",
    "    @staticmethod\n",
    "    def getMicroserviceVersions(repo: Repository):\n",
    "        try:\n",
    "            app_folder_contents = repo.get_contents(\"app\")\n",
    "            microservice_versions = []  \n",
    "            for item in app_folder_contents:\n",
    "                version_regex = \"app/v[\\d]+\"\n",
    "                if re.match(version_regex, item.path) is not None:\n",
    "                    microservice_versions.append(item.path[4:])\n",
    "            return microservice_versions\n",
    "        except Exception as ex:\n",
    "            raise ex\n",
    "    \n",
    "    @staticmethod\n",
    "    def getErrorSummaries(mtd_team_repos: List[Repository.Repository]):\n",
    "        error_summaries = []\n",
    "        for mtd_team_repo in mtd_team_repos:\n",
    "            try:\n",
    "                mtd_team_repo.get_contents(\"app\")\n",
    "                microservice_versions = Program.getMicroserviceVersions(mtd_team_repo)\n",
    "                for microservice_version in microservice_versions:\n",
    "                    error_summaries.append(ErrorSummary(mtd_team_repo, microservice_version))\n",
    "            except GithubException as ex:\n",
    "                if not(ex.status == 404):\n",
    "                    raise ex\n",
    "            except Exception as ex:\n",
    "                raise ex\n",
    "        return error_summaries\n",
    "    \n",
    "    def dataAsArray(self):\n",
    "        data_as_array = np.asarray([\"repo_name\", \"microservice_version\", \"has_paths\", \"error_name\", \"error_code\", \"error_message\"])\n",
    "        for item in self.data:\n",
    "            for error in item.errors:\n",
    "                error_row = np.array([item.repo_name, item.microservice_version, item.has_paths, error.error_name, error.error_code, error.error_message])\n",
    "                data_as_array = np.vstack((data_as_array, error_row))\n",
    "        return data_as_array\n",
    "              \n",
    "    def __init__(self, repos: List[Repository.Repository]):\n",
    "        self.data = Program.getErrorSummaries(repos)"
   ]
  },
  {
   "cell_type": "code",
   "execution_count": 176,
   "metadata": {},
   "outputs": [],
   "source": [
    "class ErrorSummary:\n",
    "    @staticmethod\n",
    "    def getErrorContent(raw_error_content: ContentFile):\n",
    "        unwanted_content_regex = \"\\/\\*\\n(.*\\*.*\\n)*.*\\*\\/|.*\\/\\/.*\\n|package.*\\n|import.*\\n\"\n",
    "        decoded_error_content = raw_error_content.decoded_content.decode(\"utf-8\")\n",
    "        trimmed_error_content = re.sub(unwanted_content_regex, \"\", decoded_error_content)\n",
    "        return trimmed_error_content\n",
    "    \n",
    "    @staticmethod\n",
    "    def hasPaths(repo: Repository, microservice_version: str):\n",
    "        try:\n",
    "            matching_params = []\n",
    "            error_model_folder_contents = repo.get_contents(\"app/\" + microservice_version + \"/models/errors\")\n",
    "            for item in error_model_folder_contents:\n",
    "                item_error_content = ErrorSummary.getErrorContent(item)\n",
    "                error_case_class_params_regex = \"(?<=case class MtdError\\().*?(?=\\))|(?<=case class Error\\().*?(?=\\))\"\n",
    "                error_case_class_params = re.findall(error_case_class_params_regex, item_error_content, re.DOTALL)\n",
    "                if len(error_case_class_params) <= 1:  \n",
    "                    matching_params += error_case_class_params\n",
    "                else:\n",
    "                    raise RuntimeError(\"[ErrorSummary][hasPaths] -\")\n",
    "            if len(matching_params) == 1: \n",
    "                error_case_class_params = matching_params[0].split(\",\")\n",
    "                for error_case_class_param in error_case_class_params:\n",
    "                    if \"paths\" in error_case_class_param:\n",
    "                        return True\n",
    "                return False\n",
    "            else:\n",
    "                raise RuntimeError(\"[ErrorSummary][hasPaths] -\")\n",
    "        except Exception as ex:\n",
    "            raise ex\n",
    "    \n",
    "    @staticmethod\n",
    "    def getErrors(repo: Repository, microservice_version: str):\n",
    "        error_object_regex = \"object *[A-Za-z]* *extends *[A-Za-z]*Error\\(.*?\\)\"\n",
    "        error_model_folder_contents = repo.get_contents(\"app/\" + microservice_version + \"/models/errors\")\n",
    "        errors = []\n",
    "        for item in error_model_folder_contents:\n",
    "            raw_error_strings = re.findall(error_object_regex, ErrorSummary.getErrorContent(item), re.DOTALL)\n",
    "            for raw_error_string in raw_error_strings:\n",
    "                errors.append(Error(raw_error_string.replace(\"\\n\", \"\")))\n",
    "        if errors != []:\n",
    "            return errors\n",
    "        else:\n",
    "            raise RuntimeError(\"[ErrorSummary][getErrors]\")\n",
    "            \n",
    "    def __init__(self, repo: Repository, microservice_version: str):\n",
    "        self.repo_name = repo.name\n",
    "        self.microservice_version = microservice_version\n",
    "        self.has_paths = ErrorSummary.hasPaths(repo, microservice_version)\n",
    "        self.errors = ErrorSummary.getErrors(repo, microservice_version)"
   ]
  },
  {
   "cell_type": "code",
   "execution_count": 191,
   "metadata": {},
   "outputs": [],
   "source": [
    "class Error:\n",
    "    @staticmethod\n",
    "    def getErrorName(raw_error_string: str):\n",
    "        error_name = re.search(\"(?<=object).*(?=.*extends.*Error\\(.*?\\))\", raw_error_string)\n",
    "        return error_name.group().replace(\" \",\"\")\n",
    "    \n",
    "    @staticmethod\n",
    "    def getErrorCode(raw_error_string: str):\n",
    "        error_code = re.search('(?<=( |\\(|=|,)\")[A-Z_]*(?=\")', raw_error_string)\n",
    "        return error_code.group()\n",
    "    \n",
    "    @staticmethod\n",
    "    def getErrorMessage(raw_error_string: str):\n",
    "        error_message = re.findall('\"[^,]*?.*?\"', raw_error_string)\n",
    "        try:\n",
    "            return error_message[1].replace('\"',\"\")\n",
    "        except Exception as ex:\n",
    "            raise ex\n",
    "    \n",
    "    def __init__(self, raw_error_string: str):\n",
    "        self.error_name = Error.getErrorName(raw_error_string)\n",
    "        self.error_code = Error.getErrorCode(raw_error_string)\n",
    "        self.error_message = Error.getErrorMessage(raw_error_string)  "
   ]
  },
  {
   "cell_type": "code",
   "execution_count": 192,
   "metadata": {},
   "outputs": [],
   "source": [
    "ans = Program(mtd_team_repos)"
   ]
  },
  {
   "cell_type": "code",
   "execution_count": 193,
   "metadata": {},
   "outputs": [],
   "source": [
    "data_as_array = ans.dataAsArray()\n",
    "data_as_df = df(data = data[1:], columns = data[0])"
   ]
  },
  {
   "cell_type": "code",
   "execution_count": 5,
   "metadata": {},
   "outputs": [],
   "source": [
    "data_as_df.to_csv(\"file.csv\", index = False)"
   ]
  }
 ],
 "metadata": {
  "kernelspec": {
   "display_name": "Python 3",
   "language": "python",
   "name": "python3"
  },
  "language_info": {
   "codemirror_mode": {
    "name": "ipython",
    "version": 3
   },
   "file_extension": ".py",
   "mimetype": "text/x-python",
   "name": "python",
   "nbconvert_exporter": "python",
   "pygments_lexer": "ipython3",
   "version": "3.7.4"
  }
 },
 "nbformat": 4,
 "nbformat_minor": 4
}
