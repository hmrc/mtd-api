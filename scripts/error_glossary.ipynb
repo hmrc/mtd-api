{
 "cells": [
  {
   "cell_type": "code",
   "execution_count": 7,
   "metadata": {},
   "outputs": [],
   "source": [
    "from github import Github, GithubException, Repository, ContentFile\n",
    "import re\n",
    "from typing import List"
   ]
  },
  {
   "cell_type": "code",
   "execution_count": 8,
   "metadata": {},
   "outputs": [],
   "source": [
    "#Remove access key before commiting to GitHub\n",
    "github = Github(\"dummy\")"
   ]
  },
  {
   "cell_type": "code",
   "execution_count": 9,
   "metadata": {},
   "outputs": [],
   "source": [
    "mtd_team_repos = github.get_organization(\"hmrc\").get_team(1996975).get_repos()"
   ]
  },
  {
   "cell_type": "code",
   "execution_count": 32,
   "metadata": {},
   "outputs": [],
   "source": [
    "class Program:\n",
    "    @staticmethod\n",
    "    def getMicroserviceVersions(repo: Repository):\n",
    "        version_regex = \"app/v[\\d]+\"\n",
    "        try:\n",
    "            app_folder_contents = repo.get_contents(\"app\")\n",
    "            microservice_versions = []  \n",
    "            for item in app_folder_contents:\n",
    "                if re.match(version_regex, item.path) is not None:\n",
    "                    microservice_versions.append(item.path[4:])\n",
    "            return microservice_versions\n",
    "        except Exception as ex:\n",
    "            raise ex\n",
    "    \n",
    "    @staticmethod\n",
    "    def getErrorSummaries(mtd_team_repos: List[Repository.Repository]):\n",
    "        error_summaries = []\n",
    "        for mtd_team_repo in mtd_team_repos:\n",
    "            try:\n",
    "                mtd_team_repo.get_contents(\"app\")\n",
    "                microservice_versions = Program.getMicroserviceVersions(mtd_team_repo)\n",
    "                for version in microservice_versions:\n",
    "                    error_summaries.append(ErrorSummary(mtd_team_repo, version))\n",
    "            except GithubException as ex:\n",
    "                if not(ex.status == 404):\n",
    "                    raise ex\n",
    "            except Exception as ex:\n",
    "                raise ex\n",
    "        return error_summaries\n",
    "              \n",
    "    def __init__(self, repos: List[Repository.Repository]):\n",
    "        self.data = Program.getErrorSummaries(repos)"
   ]
  },
  {
   "cell_type": "code",
   "execution_count": 33,
   "metadata": {},
   "outputs": [],
   "source": [
    "class ErrorSummary:\n",
    "    @staticmethod\n",
    "    def getErrorContent(raw_error_content: ContentFile):\n",
    "        boilerplate_regex = \"\\/\\*\\n(.*\\*.*\\n)*.*\\*\\/|.*\\/\\/.*\\n|package.*\\n|import.*\\n\"\n",
    "        decoded_error_content = raw_error_content.decoded_content.decode(\"utf-8\")\n",
    "        error_content_without_boilerplate = re.sub(boilerplate_regex, \"\", decoded_error_content)\n",
    "        return error_content_without_boilerplate\n",
    "    \n",
    "    @staticmethod\n",
    "    def hasPaths(repo: Repository, microservice_version):\n",
    "        error_class_regex = \"case.*class.*Error\\(.*code.*\\,.*?.*message.*\\)\"\n",
    "        try:\n",
    "            microservice_version_error_files = repo.get_contents(\"app/\" + microservice_version + \"/models/errors\")\n",
    "            error_class_files = []\n",
    "            for file in microservice_version_error_files:\n",
    "                error_class_matches = re.search(error_class_regex, file.decoded_content.decode(\"utf-8\"))\n",
    "                if error_class_matches is not None:\n",
    "                    error_class_files.append(file)\n",
    "            if (len(error_class_files) == 1):\n",
    "                aa = error_class_files[0]\n",
    "            elif error_class_files == []:\n",
    "                raise RuntimeError(\"[MicroserviceErrorSummary][getMicroserviceVersionErrorSummary] - No error case class could be found for \" +\n",
    "                                   \"repository: \" + repo.name +\n",
    "                                   \", microservice version: \" + microservice_version)\n",
    "            else:\n",
    "                raise RuntimeError(\"[MicroserviceErrorSummary][getMicroserviceVersionErrorSummary] - Multiple conflicting error case classes found for \" +\n",
    "                                   \"repository: \" + repo.name +\n",
    "                                   \", microservice version: \" + microservice_version)            \n",
    "        except Exception as ex:\n",
    "            raise ex\n",
    "        \n",
    "        reg = \"(?<=case class MtdError\\().*?(?=\\))|(?<=case class Error\\().*?(?=\\))\"\n",
    "        ans = re.search(reg, ErrorSummary.getErrorContent(aa))\n",
    "        if ans == None:\n",
    "            raise RuntimeError(\"[ErrorVersion][hasPaths]\")\n",
    "        error_params = ans.group().split(\",\")\n",
    "        for error_param in error_params:\n",
    "            if \"paths\" in error_param:\n",
    "                return True\n",
    "        return False\n",
    "    \n",
    "    @staticmethod\n",
    "    def getErrors(repo: Repository, microservice_version):\n",
    "        error_regex = \"object *[A-Za-z]* *extends *[A-Za-z]*Error\\(.*?\\)\"\n",
    "        aa = repo.get_contents(\"app/\" + microservice_version + \"/models/errors\")\n",
    "        for file in aa:\n",
    "            raw_error_strings = re.findall(error_regex, ErrorSummary.getErrorContent(file), re.DOTALL)\n",
    "            errors = []\n",
    "            for raw_error_string in raw_error_strings:\n",
    "                errors.append(Error(raw_error_string.replace(\"\\n\", \"\")))\n",
    "            if errors != []:\n",
    "                return errors\n",
    "        raise RuntimeError(\"[ErrorVersion][getErrors]\")\n",
    "            \n",
    "    def __init__(self, repo: Repository, microservice_version: str):\n",
    "        self.repo_name = repo.name\n",
    "        self.microservice_version = microservice_version\n",
    "        self.has_paths = ErrorSummary.hasPaths(repo, microservice_version)\n",
    "        self.errors = ErrorSummary.getErrors(repo, microservice_version)"
   ]
  },
  {
   "cell_type": "code",
   "execution_count": 34,
   "metadata": {},
   "outputs": [],
   "source": [
    "class Error:\n",
    "    @staticmethod\n",
    "    def getErrorName(raw_error_string: str):\n",
    "        error_name = re.search(\"(?<=object).*(?=.*extends.*Error\\(.*?\\))\", raw_error_string)\n",
    "        return error_name.group().replace(\" \",\"\")\n",
    "    \n",
    "    @staticmethod\n",
    "    def getErrorCode(raw_error_string: str):\n",
    "        error_code = re.search('(?<=( |\\(|=|,)\")[A-Z_]*(?=\")', raw_error_string)\n",
    "        return error_code.group()\n",
    "    \n",
    "    @staticmethod\n",
    "    def getErrorMessage(raw_error_string: str):\n",
    "        error_message = re.findall('\"[^,]*?.*?\"', raw_error_string)\n",
    "        try:\n",
    "            return error_message[1].replace('\"',\"\")\n",
    "        except Exception as ex:\n",
    "            raise ex\n",
    "    \n",
    "    def __init__(self, raw_error_string: str):\n",
    "        self.error_name = Error.getErrorName(raw_error_string)\n",
    "        self.error_code = Error.getErrorCode(raw_error_string)\n",
    "        self.error_message = Error.getErrorMessage(raw_error_string)  "
   ]
  },
  {
   "cell_type": "code",
   "execution_count": 35,
   "metadata": {},
   "outputs": [],
   "source": [
    "ans = Program(mtd_team_repos)"
   ]
  },
  {
   "cell_type": "code",
   "execution_count": null,
   "metadata": {},
   "outputs": [],
   "source": []
  }
 ],
 "metadata": {
  "kernelspec": {
   "display_name": "Python 3",
   "language": "python",
   "name": "python3"
  },
  "language_info": {
   "codemirror_mode": {
    "name": "ipython",
    "version": 3
   },
   "file_extension": ".py",
   "mimetype": "text/x-python",
   "name": "python",
   "nbconvert_exporter": "python",
   "pygments_lexer": "ipython3",
   "version": "3.7.4"
  }
 },
 "nbformat": 4,
 "nbformat_minor": 4
}
